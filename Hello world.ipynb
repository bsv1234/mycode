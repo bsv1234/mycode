{
 "cells": [
  {
   "cell_type": "code",
   "execution_count": 128,
   "id": "cb45bd54",
   "metadata": {},
   "outputs": [
    {
     "data": {
      "text/plain": [
       "array(['HipHop', 'Dance'], dtype=object)"
      ]
     },
     "execution_count": 128,
     "metadata": {},
     "output_type": "execute_result"
    }
   ],
   "source": [
    "import pandas as pd\n",
    "from sklearn.tree import DecisionTreeClassifier\n",
    "from sklearn.model_selection import train_test_split\n",
    "from sklearn.metrics import accuracy_score\n",
    "import pickle\n",
    "from joblib import dump, load\n",
    "\n",
    "\n",
    "# music_data = pd.read_csv('music.csv')\n",
    "# X = music_data.drop(columns=['genre'])\n",
    "# Y = music_data['genre']\n",
    "\n",
    "# # # X_train, X_test, Y_train, Y_test = train_test_split(X, Y,test_size=0.2)\n",
    "\n",
    "# model = DecisionTreeClassifier()\n",
    "# model.fit(X, Y)\n",
    "\n",
    "#dump(model, 'music-recommender.joblib' )\n",
    "model = load('music-recommender.joblib')\n",
    "\n",
    "# model = load('music-recommender.joblib')\n",
    "predections = model.predict([[22,1], [23,0]])\n",
    "predections\n",
    "    \n",
    "\n",
    "# score = accuracy_score(Y_test, predections)\n",
    "# score\n"
   ]
  },
  {
   "cell_type": "markdown",
   "id": "8cdd2486",
   "metadata": {},
   "source": [
    "import numpy as np\n",
    "\n",
    "# 1 Diementional Array\n",
    "my_lst = [1,2,3,4,5]\n",
    "arr = np.array(my_lst)\n",
    "arr\n",
    "\n"
   ]
  },
  {
   "cell_type": "code",
   "execution_count": 144,
   "id": "f544f7f5",
   "metadata": {},
   "outputs": [
    {
     "data": {
      "text/plain": [
       "(3, 5)"
      ]
     },
     "execution_count": 144,
     "metadata": {},
     "output_type": "execute_result"
    }
   ],
   "source": [
    "# 2 Diementional Array\n",
    "# my_lst1 = [1,2,3,4,5]\n",
    "# my_lst2 = [2,3,4,5,6]\n",
    "# my_lst3 = [3,4,5,6,7]\n",
    "\n",
    "# arr = np.array([my_lst1, my_lst2,my_lst3])\n",
    "# arr\n",
    "# arr.shape\n",
    "\n"
   ]
  }
 ],
 "metadata": {
  "kernelspec": {
   "display_name": "Python 3 (ipykernel)",
   "language": "python",
   "name": "python3"
  },
  "language_info": {
   "codemirror_mode": {
    "name": "ipython",
    "version": 3
   },
   "file_extension": ".py",
   "mimetype": "text/x-python",
   "name": "python",
   "nbconvert_exporter": "python",
   "pygments_lexer": "ipython3",
   "version": "3.8.11"
  }
 },
 "nbformat": 4,
 "nbformat_minor": 5
}
